{
 "cells": [
  {
   "cell_type": "markdown",
   "id": "a6ae4da2",
   "metadata": {},
   "source": [
    "# fdfgdfg\n",
    "## fdgd\n",
    "### edsfsdfsd\n",
    "- dff\n",
    "- fdf\n",
    "- ff\n",
    "    - fdffd\n",
    "    - fdfd\n",
    "*dkjfbkdb*\n",
    "**dsfjkhbdkjh**\n"
   ]
  },
  {
   "cell_type": "code",
   "execution_count": null,
   "id": "3c0d1c5f",
   "metadata": {},
   "outputs": [],
   "source": []
  }
 ],
 "metadata": {
  "kernelspec": {
   "display_name": "Python 3",
   "language": "python",
   "name": "python3"
  },
  "language_info": {
   "codemirror_mode": {
    "name": "ipython",
    "version": 3
   },
   "file_extension": ".py",
   "mimetype": "text/x-python",
   "name": "python",
   "nbconvert_exporter": "python",
   "pygments_lexer": "ipython3",
   "version": "3.9.6"
  }
 },
 "nbformat": 4,
 "nbformat_minor": 5
}
